{
 "cells": [
  {
   "cell_type": "code",
   "execution_count": 7,
   "metadata": {},
   "outputs": [],
   "source": [
    "import shutil\n",
    "import pandas as pd\n",
    "import matplotlib as mpl\n",
    "import matplotlib.pyplot as plt\n",
    "import matplotlib.mlab as mlab\n",
    "import numpy as np\n",
    "from scipy.stats import norm\n",
    "import os"
   ]
  },
  {
   "cell_type": "code",
   "execution_count": 19,
   "metadata": {},
   "outputs": [],
   "source": [
    "directory = \"prof_design_round2/all_pdbs/\"\n",
    "dir_path = \"prof_design_round2/\"\n",
    "scores = pd.read_csv(directory+\"score.sc\", header=1, sep='\\s+')"
   ]
  },
  {
   "cell_type": "code",
   "execution_count": 12,
   "metadata": {},
   "outputs": [],
   "source": [
    "pdbname_list = list()\n",
    "array = scores.as_matrix()\n",
    "for item in range(0, len(array)):\n",
    "    file_name = str(array[item][-1]) + '.pdb'\n",
    "    pdbname_list.append(file_name)"
   ]
  },
  {
   "cell_type": "code",
   "execution_count": 13,
   "metadata": {},
   "outputs": [
    {
     "name": "stdout",
     "output_type": "stream",
     "text": [
      "22\n"
     ]
    }
   ],
   "source": [
    "scaff_rifdocks = set()\n",
    "for name in pdbname_list:\n",
    "    split_name = name.split('_filter_')\n",
    "    scaffold_rif = split_name[0]\n",
    "    if not scaffold_rif in scaff_rifdocks:\n",
    "        scaff_rifdocks.add(scaffold_rif)\n",
    "scaff_rifdocks = sorted(scaff_rifdocks)\n",
    "print(len(scaff_rifdocks))"
   ]
  },
  {
   "cell_type": "code",
   "execution_count": 20,
   "metadata": {},
   "outputs": [
    {
     "name": "stdout",
     "output_type": "stream",
     "text": [
      "prof_design_round2/0_input_0035_0001_0001_000000015\n",
      "prof_design_round2/10_input_0030_0001_0001_000000001\n",
      "prof_design_round2/10_input_0063_0001_0001_000000000\n",
      "prof_design_round2/11_input_0067_0001_0001_000000003\n",
      "prof_design_round2/12_input_0008_0001_0001_000000000\n",
      "prof_design_round2/13_input_0015_0001_0001_000000003\n",
      "prof_design_round2/13_input_0018_0001_0001_000000001\n",
      "prof_design_round2/13_input_0036_0001_0001_000000006\n",
      "prof_design_round2/14_input_0016_0001_0001_000000005\n",
      "prof_design_round2/18_input_0017_0001_0001_000000007\n",
      "prof_design_round2/19_input_0011_0001_0001_000000001\n",
      "prof_design_round2/32_input_0068_0001_0001_000000004\n",
      "prof_design_round2/33_input_0020_0001_0001_000000015\n",
      "prof_design_round2/34_input_0088_0001_0001_000000006\n",
      "prof_design_round2/35_input_0030_0001_0001_000000001\n",
      "prof_design_round2/35_input_0046_0001_0001_000000000\n",
      "prof_design_round2/35_input_0049_0001_0001_000000010\n",
      "prof_design_round2/35_input_0065_0001_0001_000000009\n",
      "prof_design_round2/37_input_0094_0001_0001_000000016\n",
      "prof_design_round2/6_input_0077_0001_0001_000000007\n",
      "prof_design_round2/8_input_0012_0001_0001_000000001\n",
      "prof_design_round2/8_input_0012_0001_0001_000000002\n"
     ]
    }
   ],
   "source": [
    "for scaffold_rif in scaff_rifdocks:\n",
    "    scaff_rif = scores[scores['description'].str.contains(scaffold_rif)]\n",
    "    scaff_rif_crit = scaff_rif.loc[(scaff_rif['res_totalscore'] < -4.0)& (scaff_rif['omega'] < 10) & (scaff_rif['hbond_lr_bb'] < -66) & (scaff_rif['interfE'] < -25)& (scaff_rif['SC'] > 0.65)& (scaff_rif['interf_uhb2'] < 3)&(scaff_rif['O_hbond'] >= 1)&(scaff_rif['O1_hbond'] >= 1)&(scaff_rif['O2_hbond'] >= 1)]\n",
    "    scaff_rif_crit_array = scaff_rif_crit.as_matrix()\n",
    "    if not os.path.exists(dir_path+scaffold_rif):\n",
    "        os.mkdir(dir_path+scaffold_rif)\n",
    "    if len(scaff_rif_crit_array) > 5:\n",
    "        scaff_rif_crit = scaff_rif.loc[(scaff_rif['res_totalscore'] < -4.2)& (scaff_rif['omega'] < 8) & (scaff_rif['hbond_lr_bb'] < -68) & (scaff_rif['interfE'] < -27)& (scaff_rif['SC'] > 0.68)& (scaff_rif['interf_uhb2'] < 2)&(scaff_rif['O_hbond'] >= 1)&(scaff_rif['O1_hbond'] >= 1)&(scaff_rif['O2_hbond'] >= 1)]\n",
    "        scaff_rif_crit_array = scaff_rif_crit.as_matrix()\n",
    "        for item in scaff_rif_crit_array:\n",
    "            old_path = directory+str(item[-1])+'.pdb'\n",
    "            new_path = dir_path+scaffold_rif+'/'+str(item[-1])+'.pdb'\n",
    "            shutil.copy(old_path,new_path)\n",
    "    elif len(scaff_rif_crit_array) < 3:\n",
    "        scaff_rif_crit = scaff_rif.loc[(scaff_rif['res_totalscore'] < -3.9)& (scaff_rif['omega'] < 12) & (scaff_rif['hbond_lr_bb'] < -60) & (scaff_rif['interfE'] < -25)& (scaff_rif['SC'] > 0.65)& (scaff_rif['interf_uhb2'] < 3)&(scaff_rif['O_hbond'] >= 1)&(scaff_rif['O1_hbond'] >= 1)&(scaff_rif['O2_hbond'] >= 1)]\n",
    "        scaff_rif_crit_array = scaff_rif_crit.as_matrix()\n",
    "        for item in scaff_rif_crit_array:\n",
    "            old_path = directory+str(item[-1])+'.pdb'\n",
    "            new_path = dir_path+scaffold_rif+'/'+str(item[-1])+'.pdb'\n",
    "            shutil.copy(old_path,new_path)\n",
    "    else:\n",
    "        for item in scaff_rif_crit_array:\n",
    "            old_path = directory+str(item[-1])+'.pdb'\n",
    "            new_path = dir_path+scaffold_rif+'/'+str(item[-1])+'.pdb'\n",
    "            shutil.copy(old_path,new_path)"
   ]
  },
  {
   "cell_type": "code",
   "execution_count": null,
   "metadata": {},
   "outputs": [],
   "source": []
  }
 ],
 "metadata": {
  "kernelspec": {
   "display_name": "Python 2",
   "language": "python",
   "name": "python2"
  },
  "language_info": {
   "codemirror_mode": {
    "name": "ipython",
    "version": 3
   },
   "file_extension": ".py",
   "mimetype": "text/x-python",
   "name": "python",
   "nbconvert_exporter": "python",
   "pygments_lexer": "ipython3",
   "version": "3.5.4"
  }
 },
 "nbformat": 4,
 "nbformat_minor": 2
}
