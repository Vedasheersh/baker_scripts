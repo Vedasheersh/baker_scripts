{
 "cells": [
  {
   "cell_type": "code",
   "execution_count": 1,
   "metadata": {},
   "outputs": [],
   "source": [
    "import os\n",
    "import shutil\n",
    "import glob"
   ]
  },
  {
   "cell_type": "code",
   "execution_count": 2,
   "metadata": {},
   "outputs": [],
   "source": [
    "task_file = open(\"array_prof_design.tasks\", 'w') \n",
    "out_dir = \"../prof_design_round3\"\n",
    "clus_folders = glob.glob(\"*_input_*\")\n",
    "for cluster in clus_folders:\n",
    "    pdbs = glob.glob(cluster+\"/*pdb\")\n",
    "    if len(pdbs) == 0:\n",
    "        dock_folders = glob.glob(cluster+\"/*\")\n",
    "        for dock in dock_folders:\n",
    "            if \"not_use\" not in dock and \"misc\" not in dock:\n",
    "                pdbs = glob.glob(dock+\"/*pdb\")\n",
    "                resfile = dock+\"/temp.resfile\"\n",
    "                for pdb in pdbs:\n",
    "                    line = \"~/Rosetta/main/source/bin/rosetta_scripts.default.linuxgccrelease -parser:protocol ./rewritten_resfile_design.xml\"\n",
    "                    line+=\" -parser:script_vars res_file=%s -s %s -out:path:all %s -database /software/rosetta/main/database\" %(resfile, pdb, out_dir)\n",
    "                    line+=\" @FHO_design.flags \\n\"\n",
    "                    #print(line)\n",
    "                    task_file.write(line)\n",
    "    else:\n",
    "        resfile = cluster+\"/temp.resfile\"\n",
    "        for pdb in pdbs:\n",
    "            line = \"~/Rosetta/main/source/bin/rosetta_scripts.default.linuxgccrelease -parser:protocol ./rewritten_resfile_design_release_rif.xml\"\n",
    "            line+=\" -parser:script_vars res_file=%s -s %s -out:path:all %s -database /software/rosetta/main/database\" %(resfile, pdb, out_dir)\n",
    "            line+=\" @FHO_design.flags \\n\"\n",
    "           # print(line)\n",
    "            task_file.write(line)\n",
    "task_file.close()"
   ]
  },
  {
   "cell_type": "code",
   "execution_count": null,
   "metadata": {},
   "outputs": [],
   "source": []
  }
 ],
 "metadata": {
  "kernelspec": {
   "display_name": "Python 2",
   "language": "python",
   "name": "python2"
  },
  "language_info": {
   "codemirror_mode": {
    "name": "ipython",
    "version": 3
   },
   "file_extension": ".py",
   "mimetype": "text/x-python",
   "name": "python",
   "nbconvert_exporter": "python",
   "pygments_lexer": "ipython3",
   "version": "3.5.4"
  }
 },
 "nbformat": 4,
 "nbformat_minor": 2
}
